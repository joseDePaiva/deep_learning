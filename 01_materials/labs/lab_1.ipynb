{
 "cells": [
  {
   "cell_type": "markdown",
   "metadata": {},
   "source": [
    "# Training Neural Networks with Keras\n",
    "\n",
    "Welcome to the first practical session of the course! In this session, we will learn how to train neural networks with Keras. We will start with a simple example of a feedforward neural network for classification and then we will study the impact of the initialization of the weights on the convergence of the training algorithm.\n",
    "\n",
    "Keras is a high-level neural network API, built on top of TensorFlow 2.0. It provides a user-friendly interface to build, train and deploy deep learning models. Keras is designed to be modular, fast and easy to use.\n",
    "\n",
    "Throughout this course, we will focus on using Keras and TensorFlow for building and training neural networks. However, there are other popular deep learning frameworks such as PyTorch, MXNet, CNTK, etc. that you can also use to build and train neural networks.\n",
    "\n",
    "In order to use our code on Google Colab, we will need to ensure that any required packages are installed. We will use the following packages in this session:\n",
    "\n",
    "- `tensorflow`: an open-source library for numerical computation and large-scale machine learning.\n",
    "- `matplotlib`: a plotting library for the Python programming language and its numerical mathematics extension NumPy.\n",
    "- `numpy`: a library for scientific computing in Python.\n",
    "- `scikit-learn`: a machine learning library for the Python programming language.\n",
    "- `pandas`: a library providing high-performance, easy-to-use data structures and data analysis tools for the Python programming language.\n",
    "\n",
    "The following cell will check if the packages are installed, and if not, it will install them. Students familiar with how pip works might note that it already checks this before installing! The reason for this code (which will also appear in subsequent notebooks) is to speed up execution if you re-run the entire notebook - it will skip the installation step if the packages are already installed."
   ]
  },
  {
   "cell_type": "markdown",
   "metadata": {
    "collapsed": false
   },
   "source": [
    "With the packages installed, we can now get started on the practical session!\n",
    "\n",
    "Today, we will be working with the famous MNIST dataset. MNIST (Modified National Institute of Standards and Technology) is a database of low resolution images of handwritten digits. The history here is interesting - the dataset was originally created in the 1980s, when researchers from the aforementioned institute collected samples from American Census Bureau employees and high school students. The dataset was then modified in the 1990s (hence the M in MNIST), and has since become a popular benchmark for machine learning algorithms. \n",
    "\n",
    "The dataset contains images, each of which is a 28x28 grayscale image of a handwritten digit. The goal is to classify each image into one of the 10 possible classes (0-9).\n",
    "\n",
    "![MNIST](https://upload.wikimedia.org/wikipedia/commons/2/27/MnistExamples.png)\n",
    "\n",
    "The Scikit-Learn library provides a convenient function to download and load the MNIST dataset. The following cell will download the dataset. Then we will take a look at the shape of the data."
   ]
  },
  {
   "cell_type": "code",
   "execution_count": 1,
   "metadata": {},
   "outputs": [],
   "source": [
    "import matplotlib.pyplot as plt\n",
    "import numpy as np\n",
    "\n",
    "from sklearn.datasets import load_digits\n",
    "\n",
    "digits = load_digits()"
   ]
  },
  {
   "cell_type": "code",
   "execution_count": 2,
   "metadata": {},
   "outputs": [
    {
     "name": "stdout",
     "output_type": "stream",
     "text": [
      "Attributes and methods of digits object:\n",
      "['DESCR', 'data', 'feature_names', 'frame', 'images', 'target', 'target_names']\n",
      "\n",
      "Images shape: (1797, 8, 8)\n",
      "Data shape: (1797, 64)\n",
      "Target shape: (1797,)\n"
     ]
    }
   ],
   "source": [
    "# Print the attributes and methods of the digits object\n",
    "print(\"Attributes and methods of digits object:\")\n",
    "print(dir(digits))\n",
    "\n",
    "# Display the shape of the data\n",
    "print(\"\\nImages shape:\", digits.images.shape)\n",
    "print(\"Data shape:\", digits.data.shape)\n",
    "print(\"Target shape:\", digits.target.shape)"
   ]
  },
  {
   "cell_type": "code",
   "execution_count": 3,
   "metadata": {},
   "outputs": [
    {
     "data": {
      "text/plain": [
       "(1797, 8, 8)"
      ]
     },
     "execution_count": 3,
     "metadata": {},
     "output_type": "execute_result"
    }
   ],
   "source": [
    "digits.images.shape"
   ]
  },
  {
   "cell_type": "markdown",
   "metadata": {
    "collapsed": false
   },
   "source": [
    "This means that we have 1797 images, each of which is a 8x8 image. For basic image processing, we will need to flatten the images into a 1D array. In this case, Scikit-Learn has already provided the data in this format too:"
   ]
  },
  {
   "cell_type": "code",
   "execution_count": 4,
   "metadata": {},
   "outputs": [
    {
     "data": {
      "text/plain": [
       "(1797, 64)"
      ]
     },
     "execution_count": 4,
     "metadata": {},
     "output_type": "execute_result"
    }
   ],
   "source": [
    "digits.data.shape"
   ]
  },
  {
   "cell_type": "markdown",
   "metadata": {
    "collapsed": false
   },
   "source": [
    "For each image, we also have the corresponding label (or target, or class) in `digits.target`:"
   ]
  },
  {
   "cell_type": "code",
   "execution_count": null,
   "metadata": {},
   "outputs": [],
   "source": [
    "digits.target.shape"
   ]
  },
  {
   "cell_type": "markdown",
   "metadata": {
    "collapsed": false
   },
   "source": [
    "We can take a look at some random images from the dataset. The following cell will select 9 random images and plot them in a 3x3 grid (meaning that you can rerun the cell to see different images)."
   ]
  },
  {
   "cell_type": "code",
   "execution_count": 5,
   "metadata": {},
   "outputs": [
    {
     "data": {
      "image/png": "[encoded data removed]",
      "text/plain": [
       "<Figure size 600x600 with 9 Axes>"
      ]
     },
     "metadata": {},
     "output_type": "display_data"
    }
   ],
   "source": [
    "# Selecting 9 random indices\n",
    "random_indices = np.random.choice(len(digits.images), 9, replace=False)\n",
    "\n",
    "# Creating a 3x3 grid plot\n",
    "fig, axes = plt.subplots(3, 3, figsize=(6, 6))\n",
    "\n",
    "for i, ax in enumerate(axes.flat):\n",
    "    ax.imshow(digits.images[random_indices[i]], cmap=plt.cm.gray_r, interpolation='nearest')\n",
    "    ax.set_title(f\"Label: {digits.target[random_indices[i]]}\")\n",
    "\n",
    "    # Removing axis labels\n",
    "    ax.set_xticks([])\n",
    "    ax.set_yticks([])\n",
    "\n",
    "plt.show()"
   ]
  },
  {
   "cell_type": "markdown",
   "metadata": {
    "collapsed": false
   },
   "source": [
    "As you can see, these images are very low resolution. This is because they were originally scanned from paper forms, and then scaled down to 8x8 pixels. This is a common problem in machine learning - the quality of the data is often a limiting factor in the performance of the model. In this case, the low resolution of the images makes it difficult to distinguish between some digits, even for humans. For example, the following images are all labelled as 9, but they look very different:"
   ]
  },
  {
   "cell_type": "code",
   "execution_count": 6,
   "metadata": {
    "collapsed": false
   },
   "outputs": [
    {
     "data": {
      "image/png": "[encoded data removed]",
      "text/plain": [
       "<Figure size 600x600 with 9 Axes>"
      ]
     },
     "metadata": {},
     "output_type": "display_data"
    }
   ],
   "source": [
    "# Selecting 9 random indices of images labelled as 9\n",
    "random_indices = np.random.choice(np.where(digits.target == 9)[0], 9, replace=False)\n",
    "\n",
    "# Creating a 3x3 grid plot\n",
    "fig, axes = plt.subplots(3, 3, figsize=(6, 6))\n",
    "\n",
    "for i, ax in enumerate(axes.flat):\n",
    "    ax.imshow(digits.images[random_indices[i]], cmap=plt.cm.gray_r, interpolation='nearest')\n",
    "    ax.set_title(f\"Label: {digits.target[random_indices[i]]}\")\n",
    "\n",
    "    # Removing axis labels\n",
    "    ax.set_xticks([])\n",
    "    ax.set_yticks([])\n",
    "    \n",
    "plt.show()"
   ]
  },
  {
   "cell_type": "markdown",
   "metadata": {
    "collapsed": false
   },
   "source": [
    "While we are plotting the samples as images, remember that our model is only going to see a 1D array of numbers. "
   ]
  },
  {
   "cell_type": "markdown",
   "metadata": {},
   "source": [
    "## Train / Test Split\n",
    "\n",
    "In order to understand how well our model performs on _new_ data, we need to split our dataset into a training set and a test set. The training set will be used to train the model, and the test set will be used to evaluate the performance of the model.\n",
    "\n",
    "Let's keep some held-out data to be able to measure the generalization performance of our model. "
   ]
  },
  {
   "cell_type": "code",
   "execution_count": 7,
   "metadata": {},
   "outputs": [],
   "source": [
    "from sklearn.model_selection import train_test_split\n",
    "\n",
    "\n",
    "X_train, X_test, y_train, y_test = train_test_split(\n",
    "    digits.data, \n",
    "    digits.target,\n",
    "    test_size=0.2, # 20% of the data is used for testing\n",
    "    random_state=42 # Providing a value here means getting the same \"random\" split every time\n",
    ")"
   ]
  },
  {
   "cell_type": "markdown",
   "metadata": {
    "collapsed": false
   },
   "source": [
    "Let's confirm that the data has been split correctly:"
   ]
  },
  {
   "cell_type": "code",
   "execution_count": 8,
   "metadata": {
    "collapsed": false
   },
   "outputs": [
    {
     "name": "stdout",
     "output_type": "stream",
     "text": [
      "X_train shape: (1437, 64)\n",
      "y_train shape: (1437,)\n",
      "X_test shape: (360, 64)\n",
      "y_test shape: (360,)\n"
     ]
    }
   ],
   "source": [
    "print(f'X_train shape: {X_train.shape}')\n",
    "print(f'y_train shape: {y_train.shape}')\n",
    "print(f'X_test shape: {X_test.shape}')\n",
    "print(f'y_test shape: {y_test.shape}')"
   ]
  },
  {
   "cell_type": "markdown",
   "metadata": {
    "collapsed": false
   },
   "source": [
    "This is what we expected to see. It's always good to check as you go, to make sure that you haven't made a mistake somewhere - this is something that working in a notebook like this makes it easy to do."
   ]
  },
  {
   "cell_type": "markdown",
   "metadata": {},
   "source": [
    "## Preprocessing of the Target Data\n",
    "\n",
    "The labels that we have are integers between 0 and 9. However, we want to train a neural network to classify the images into one of 10 classes. It can be a little counter-intuitive because we are dealing with numbers, but our classes are not ordinal.\n",
    "\n",
    "What do we mean by that? Let's imagine we were trying to predict the height of a building (separated into classes) from images. If a given building was actually 10m tall, and our model predicted 9m, we would consider that to be a better prediction than if it predicted 1m. This is because the classes are ordinal - there is meaning in the difference between the classes.\n",
    "\n",
    "In our case, even though we are dealing with numbers, the classes are not ordinal. If a given image is actually a 9, and our model predicts 8, we would consider that to be just as bad as if it predicted 1. This is because the classes are not ordered, and the difference between the classes is not meaningful.\n",
    "\n",
    "Because of this, we need to convert our labels from an integer value into a one-hot encoded vector. This means that each label will be represented as a vector of length 10, with a 1 in the position corresponding to the class, and 0s everywhere else. For example, the label 9 would be represented as `[0, 0, 0, 0, 0, 0, 0, 0, 0, 1]`. This is a common way of representing categorical data in machine learning. By doing this, we ensure that our model is taught the correct relationship between the classes."
   ]
  },
  {
   "cell_type": "code",
   "execution_count": 9,
   "metadata": {},
   "outputs": [
    {
     "name": "stderr",
     "output_type": "stream",
     "text": [
      "2024-07-26 21:56:04.252597: I tensorflow/core/platform/cpu_feature_guard.cc:182] This TensorFlow binary is optimized to use available CPU instructions in performance-critical operations.\n",
      "To enable the following instructions: SSE4.1 SSE4.2 AVX AVX2 FMA, in other operations, rebuild TensorFlow with the appropriate compiler flags.\n"
     ]
    },
    {
     "name": "stdout",
     "output_type": "stream",
     "text": [
      "Before one-hot encoding: 6\n",
      "After one-hot encoding: [0. 0. 0. 0. 0. 0. 1. 0. 0. 0.]\n"
     ]
    }
   ],
   "source": [
    "from tensorflow.keras.utils import to_categorical\n",
    "\n",
    "print(f'Before one-hot encoding: {y_train[0]}')\n",
    "y_train = to_categorical(y_train, num_classes=10)\n",
    "y_test = to_categorical(y_test, num_classes=10)\n",
    "print(f'After one-hot encoding: {y_train[0]}')"
   ]
  },
  {
   "cell_type": "markdown",
   "metadata": {},
   "source": [
    "## Feed Forward Neural Networks with Keras\n",
    "\n",
    "Now that we have prepared our data, it's time to build a simple neural network! In this section, we will use the Keras API to build a simple feed forward neural network. We will then train the model on the MNIST dataset, and evaluate its performance on the test set.\n",
    "\n",
    "In most modern deep learning frameworks, the process of building a model can be broken down into a few steps:\n",
    "\n",
    "- Define the model architecture: this is where we define the layers of the model, and how they are connected to each other.\n",
    "- Compile the model: this is where we define the loss function, the optimizer, and the metrics that we want to use to evaluate the model.\n",
    "- Train the model: this is where we train the model on the training data.\n",
    "\n",
    "Let's start with defining the model architecture. There are two ways to do this in Keras - the Sequential API and the Functional API. The Sequential API is the simplest way to build a model, and is suitable for most use cases. The Functional API is more flexible, and allows you to build more complex models. We will start with the Sequential API, and then we will look at the Functional API later in the course.\n",
    "\n",
    "Our simple neural network will be \"fully-connected\". This means that each neuron in a given layer is connected to every neuron in the next layer. This is also known as a \"dense\" layer. We will use the `Dense` class from Keras to define our layers."
   ]
  },
  {
   "cell_type": "code",
   "execution_count": 10,
   "metadata": {
    "collapsed": false
   },
   "outputs": [
    {
     "name": "stdout",
     "output_type": "stream",
     "text": [
      "Model: \"sequential\"\n",
      "_________________________________________________________________\n",
      " Layer (type)                Output Shape              Param #   \n",
      "=================================================================\n",
      " dense (Dense)               (None, 64)                4160      \n",
      "                                                                 \n",
      " dense_1 (Dense)             (None, 64)                4160      \n",
      "                                                                 \n",
      " dense_2 (Dense)             (None, 10)                650       \n",
      "                                                                 \n",
      "=================================================================\n",
      "Total params: 8,970\n",
      "Trainable params: 8,970\n",
      "Non-trainable params: 0\n",
      "_________________________________________________________________\n"
     ]
    },
    {
     "name": "stderr",
     "output_type": "stream",
     "text": [
      "2024-07-26 21:56:34.120145: I tensorflow/core/common_runtime/process_util.cc:146] Creating new thread pool with default inter op setting: 2. Tune using inter_op_parallelism_threads for best performance.\n"
     ]
    }
   ],
   "source": [
    "from tensorflow.keras.models import Sequential\n",
    "from tensorflow.keras.layers import Dense\n",
    "\n",
    "model = Sequential()\n",
    "\n",
    "# Input layer\n",
    "model.add(Dense(64, activation='relu', input_shape=(64,))) # 64 neurons, ReLU activation, input shape of 64\n",
    "\n",
    "# Hidden layer\n",
    "model.add(Dense(64, activation='relu')) # 64 neurons, ReLU activation\n",
    "\n",
    "# Output layer\n",
    "model.add(Dense(10, activation='softmax')) # 10 neurons, softmax activation\n",
    "\n",
    "model.summary()"
   ]
  },
  {
   "cell_type": "markdown",
   "metadata": {
    "collapsed": false
   },
   "source": [
    "Congratulations! You have just built your first neural network with Keras. As we can confirm from the `model.summary()` output, our model has 3 layers. The first layer has 64 neurons, the second layer has 64 neurons, and the output layer has 10 neurons. The output layer uses the softmax activation function, which is commonly used for multi-class classification problems. The other layers use the ReLU activation function, which is commonly used for hidden layers in neural networks.\n",
    "\n",
    "Next, we need to compile the model. This is where we define the loss function, the optimizer, and the metrics that we want to use to evaluate the model. We will use the `compile` method of the model to do this."
   ]
  },
  {
   "cell_type": "code",
   "execution_count": 11,
   "metadata": {
    "collapsed": false
   },
   "outputs": [],
   "source": [
    "model.compile(\n",
    "    loss='categorical_crossentropy', # Loss function\n",
    "    optimizer='sgd', # Optimizer\n",
    "    metrics=['accuracy'] # Metrics to evaluate the model\n",
    ")"
   ]
  },
  {
   "cell_type": "markdown",
   "metadata": {
    "collapsed": false
   },
   "source": [
    "Because we are predicting which class a sample belongs to, we will use the `categorical_crossentropy` function. This loss function is commonly used for multi-class classification problems. \n",
    "\n",
    "For our optimizer, we are using the standard stochastic gradient descent (SGD) algorithm. This is a simple optimizer that works well for many problems. We will look at more advanced optimizers later in the course.\n",
    "\n",
    "Finally, we are using the `accuracy` metric to evaluate the model. This is a common metric for classification problems, and it is simply the fraction of samples that are correctly classified. This is an easier metric for us to understand, but it's not quite as useful for actually training the model (for example, it doesn't tell us how \"confident\" the model is in its predictions).\n",
    "\n",
    "Now that we have (a) defined the model architecture and (b) compiled the model, we are ready to train the model. We will use the `fit` method of the model to do this."
   ]
  },
  {
   "cell_type": "code",
   "execution_count": 12,
   "metadata": {
    "collapsed": false
   },
   "outputs": [
    {
     "name": "stdout",
     "output_type": "stream",
     "text": [
      "Epoch 1/5\n",
      "36/36 [==============================] - 2s 34ms/step - loss: 2.0598 - accuracy: 0.5135 - val_loss: 0.6512 - val_accuracy: 0.7847\n",
      "Epoch 2/5\n",
      "36/36 [==============================] - 1s 18ms/step - loss: 0.4702 - accuracy: 0.8625 - val_loss: 0.4018 - val_accuracy: 0.8924\n",
      "Epoch 3/5\n",
      "36/36 [==============================] - 1s 25ms/step - loss: 0.2981 - accuracy: 0.9147 - val_loss: 0.3151 - val_accuracy: 0.9062\n",
      "Epoch 4/5\n",
      "36/36 [==============================] - 1s 20ms/step - loss: 0.2120 - accuracy: 0.9443 - val_loss: 0.2916 - val_accuracy: 0.9062\n",
      "Epoch 5/5\n",
      "36/36 [==============================] - 1s 25ms/step - loss: 0.1719 - accuracy: 0.9521 - val_loss: 0.2623 - val_accuracy: 0.9132\n"
     ]
    },
    {
     "data": {
      "text/plain": [
       "<keras.callbacks.History at 0x7fa928601df0>"
      ]
     },
     "execution_count": 12,
     "metadata": {},
     "output_type": "execute_result"
    }
   ],
   "source": [
    "model.fit(\n",
    "    X_train, # Training data\n",
    "    y_train, # Training labels\n",
    "    epochs=5, # Number of epochs\n",
    "    batch_size=32, # Number of samples per batch\n",
    "    validation_split=0.2 # Use 20% of the data for validation\n",
    ")"
   ]
  },
  {
   "cell_type": "markdown",
   "metadata": {
    "collapsed": false
   },
   "source": [
    "We have now trained our model! We can see that the model has been trained for 5 epochs, and the loss and accuracy have been printed for each epoch. We can also see that the model has been evaluated on the validation data at the end of each epoch. This is useful for us to see how the model is performing on data that it hasn't seen during training.\n",
    "\n",
    "Once the model is trained, it's time to evaluate the model on the test set. We can use the `evaluate` method of the model to do this. If you were building a model for a real-world application, this is the very last thing you would do, and the result here would be the figure you'd report in your paper or presentation."
   ]
  },
  {
   "cell_type": "code",
   "execution_count": 13,
   "metadata": {
    "collapsed": false
   },
   "outputs": [
    {
     "name": "stdout",
     "output_type": "stream",
     "text": [
      "12/12 [==============================] - 0s 24ms/step - loss: 0.1996 - accuracy: 0.9361\n",
      "Loss:     0.20\n",
      "Accuracy: 93.61%\n"
     ]
    }
   ],
   "source": [
    "loss, accuracy = model.evaluate(X_test, y_test)\n",
    "\n",
    "print(f'Loss:     {loss:.2f}')\n",
    "print(f'Accuracy: {accuracy*100:.2f}%')"
   ]
  },
  {
   "cell_type": "markdown",
   "metadata": {
    "collapsed": false
   },
   "source": [
    "Hopefully you have achieved an accuracy of around 95%. This is pretty good, but we can do better! In the next section, we will look at how we can improve the performance of our model by using a more advanced optimizer. But before we get there, let's do one other thing - let's look at the predictions that our model is making on the test set. When you are building a model, it's often useful to have a look at some of the examples your model is getting wrong. Sometimes this can reveal problems with the data, or it can give you ideas for how to improve your model."
   ]
  },
  {
   "cell_type": "code",
   "execution_count": 14,
   "metadata": {
    "collapsed": false
   },
   "outputs": [
    {
     "name": "stdout",
     "output_type": "stream",
     "text": [
      "12/12 [==============================] - 0s 11ms/step\n"
     ]
    },
    {
     "data": {
      "image/png": "[encoded data removed]",
      "text/plain": [
       "<Figure size 600x600 with 9 Axes>"
      ]
     },
     "metadata": {},
     "output_type": "display_data"
    }
   ],
   "source": [
    "# Get the predictions for the test data\n",
    "predictions = model.predict(X_test)\n",
    "\n",
    "# Get the index of the largest probability (i.e. the predicted class)\n",
    "predicted_classes = np.argmax(predictions, axis=1)\n",
    "true_classes = np.argmax(y_test, axis=1)\n",
    "misclassified_indices = np.where(predicted_classes != true_classes)[0]\n",
    "\n",
    "# Get the misclassified samples themselves\n",
    "misclassified_samples = X_test[misclassified_indices]\n",
    "misclassified_labels = np.argmax(y_test[misclassified_indices], axis=1)\n",
    "\n",
    "# Pick 9 random misclassified samples\n",
    "random_indices = np.random.choice(len(misclassified_indices), 9, replace=False)\n",
    "\n",
    "fig, axes = plt.subplots(3, 3, figsize=(6, 6))\n",
    "for i, ax in enumerate(axes.flat):\n",
    "    ax.imshow(misclassified_samples[random_indices[i]].reshape(8, 8), cmap=plt.cm.gray_r, interpolation='nearest')\n",
    "    ax.set_title(f\"Pred: {predicted_classes[misclassified_indices[random_indices[i]]]}, Real: {misclassified_labels[random_indices[i]]}\")\n",
    "\n",
    "    # Removing axis labels\n",
    "    ax.set_xticks([])\n",
    "    ax.set_yticks([])\n",
    "    \n",
    "plt.show()"
   ]
  },
  {
   "cell_type": "markdown",
   "metadata": {
    "collapsed": false
   },
   "source": [
    "What do you think? Would you have made the same mistakes as the model? Determining whether the mistakes are \"understandable\" is a rough way of seeing if you could improve the model further, or if this is the best you can do with the data you have."
   ]
  },
  {
   "cell_type": "markdown",
   "metadata": {},
   "source": [
    "### b) Exercises: Impact of the Optimizer\n",
    "\n",
    "In this section, you will play around with the optimizer and see how it affects the performance of the model. We will start with the standard SGD optimizer, and then we will look at more advanced optimizers.\n",
    "\n",
    "1. Try decreasing the learning rate of the SGD optimizer by a factor of 10, or 100. What do you observe?\n",
    "2. Try increasing the learning rate of the SGD optimizer. What happens?\n",
    "3. The SGD optimizer has a momentum parameter. In a nutshell, this parameter controls how much the gradient from the previous step affects the current step. Try enabling momentum in the SGD optimizer with a value of 0.9. What happens?\n",
    "  \n",
    "**Notes**: \n",
    "\n",
    "The keras API documentation is available at:\n",
    "\n",
    "https://www.tensorflow.org/api_docs/python/tf/keras\n",
    "\n",
    "It is also possible to learn more about the parameters of a class by using the question mark: type and evaluate:\n",
    "\n",
    "```python\n",
    "optimizers.SGD?\n",
    "```\n",
    "\n",
    "in a jupyter notebook cell.\n",
    "\n",
    "It is also possible to type the beginning of a function call / constructor and type \"shift-tab\" after the opening paren:\n",
    "\n",
    "```python\n",
    "optimizers.SGD(<shift-tab>\n",
    "```"
   ]
  },
  {
   "cell_type": "code",
   "execution_count": 15,
   "metadata": {},
   "outputs": [
    {
     "name": "stdout",
     "output_type": "stream",
     "text": [
      "Help on SGD class:\n",
      "Help on class SGD in module keras.optimizers.legacy.gradient_descent:\n",
      "\n",
      "class SGD(keras.optimizers.legacy.optimizer_v2.OptimizerV2)\n",
      " |  SGD(learning_rate=0.01, momentum=0.0, nesterov=False, name='SGD', **kwargs)\n",
      " |  \n",
      " |  Gradient descent (with momentum) optimizer.\n",
      " |  \n",
      " |  Update rule for parameter `w` with gradient `g` when `momentum=0`:\n",
      " |  \n",
      " |  ```python\n",
      " |  w = w - learning_rate * g\n",
      " |  ```\n",
      " |  \n",
      " |  Update rule when `momentum` is larger than 0:\n",
      " |  \n",
      " |  ```python\n",
      " |  velocity = momentum * velocity - learning_rate * g\n",
      " |  w = w + velocity\n",
      " |  ```\n",
      " |  \n",
      " |  When `nesterov=True`, this rule becomes:\n",
      " |  \n",
      " |  ```python\n",
      " |  velocity = momentum * velocity - learning_rate * g\n",
      " |  w = w + momentum * velocity - learning_rate * g\n",
      " |  ```\n",
      " |  \n",
      " |  Args:\n",
      " |    learning_rate: A `Tensor`, floating point value, or a schedule that is a\n",
      " |      `tf.keras.optimizers.schedules.LearningRateSchedule`, or a callable\n",
      " |      that takes no arguments and returns the actual value to use. The\n",
      " |      learning rate. Defaults to 0.01.\n",
      " |    momentum: float hyperparameter >= 0 that accelerates gradient descent in\n",
      " |      the relevant direction and dampens oscillations. Defaults to 0, i.e.,\n",
      " |      vanilla gradient descent.\n",
      " |    nesterov: boolean. Whether to apply Nesterov momentum.\n",
      " |      Defaults to `False`.\n",
      " |    name: Optional name prefix for the operations created when applying\n",
      " |      gradients.  Defaults to `\"SGD\"`.\n",
      " |    **kwargs: keyword arguments. Allowed arguments are `clipvalue`,\n",
      " |      `clipnorm`, `global_clipnorm`.\n",
      " |      If `clipvalue` (float) is set, the gradient of each weight\n",
      " |      is clipped to be no higher than this value.\n",
      " |      If `clipnorm` (float) is set, the gradient of each weight\n",
      " |      is individually clipped so that its norm is no higher than this value.\n",
      " |      If `global_clipnorm` (float) is set the gradient of all weights is\n",
      " |      clipped so that their global norm is no higher than this value.\n",
      " |  \n",
      " |  Usage:\n",
      " |  \n",
      " |  >>> opt = tf.keras.optimizers.legacy.SGD(learning_rate=0.1)\n",
      " |  >>> var = tf.Variable(1.0)\n",
      " |  >>> loss = lambda: (var ** 2)/2.0         # d(loss)/d(var1) = var1\n",
      " |  >>> step_count = opt.minimize(loss, [var]).numpy()\n",
      " |  >>> # Step is `- learning_rate * grad`\n",
      " |  >>> var.numpy()\n",
      " |  0.9\n",
      " |  \n",
      " |  >>> opt = tf.keras.optimizers.legacy.SGD(learning_rate=0.1, momentum=0.9)\n",
      " |  >>> var = tf.Variable(1.0)\n",
      " |  >>> val0 = var.value()\n",
      " |  >>> loss = lambda: (var ** 2)/2.0         # d(loss)/d(var1) = var1\n",
      " |  >>> # First step is `- learning_rate * grad`\n",
      " |  >>> step_count = opt.minimize(loss, [var]).numpy()\n",
      " |  >>> val1 = var.value()\n",
      " |  >>> (val0 - val1).numpy()\n",
      " |  0.1\n",
      " |  >>> # On later steps, step-size increases because of momentum\n",
      " |  >>> step_count = opt.minimize(loss, [var]).numpy()\n",
      " |  >>> val2 = var.value()\n",
      " |  >>> (val1 - val2).numpy()\n",
      " |  0.18\n",
      " |  \n",
      " |  Reference:\n",
      " |      - For `nesterov=True`, See [Sutskever et al., 2013](\n",
      " |        https://github.com/mlresearch/v28/blob/gh-pages/sutskever13.pdf).\n",
      " |  \n",
      " |  Method resolution order:\n",
      " |      SGD\n",
      " |      keras.optimizers.legacy.optimizer_v2.OptimizerV2\n",
      " |      tensorflow.python.trackable.base.Trackable\n",
      " |      builtins.object\n",
      " |  \n",
      " |  Methods defined here:\n",
      " |  \n",
      " |  __init__(self, learning_rate=0.01, momentum=0.0, nesterov=False, name='SGD', **kwargs)\n",
      " |      Create a new Optimizer.\n",
      " |      \n",
      " |      This must be called by the constructors of subclasses.\n",
      " |      Note that Optimizer instances should not bind to a single graph,\n",
      " |      and so shouldn't keep Tensors as member variables. Generally\n",
      " |      you should be able to use the _set_hyper()/state.get_hyper()\n",
      " |      facility instead.\n",
      " |      \n",
      " |      This class is stateful and thread-compatible.\n",
      " |      \n",
      " |      Example of custom gradient transformations:\n",
      " |      \n",
      " |      ```python\n",
      " |      def my_gradient_transformer(grads_and_vars):\n",
      " |        # Simple example, double the gradients.\n",
      " |        return [(2. * g, v) for g, v in grads_and_vars]\n",
      " |      \n",
      " |      optimizer = tf.keras.optimizers.legacy.SGD(\n",
      " |          1e-3, gradient_transformers=[my_gradient_transformer])\n",
      " |      ```\n",
      " |      \n",
      " |      Args:\n",
      " |        name: String. The name to use for momentum accumulator weights created\n",
      " |          by the optimizer.\n",
      " |        gradient_aggregator: The function to use to aggregate gradients across\n",
      " |          devices (when using `tf.distribute.Strategy`). If `None`, defaults\n",
      " |          to summing the gradients across devices. The function should accept\n",
      " |          and return a list of `(gradient, variable)` tuples.\n",
      " |        gradient_transformers: Optional. List of functions to use to transform\n",
      " |          gradients before applying updates to Variables. The functions are\n",
      " |          applied after `gradient_aggregator`. The functions should accept and\n",
      " |          return a list of `(gradient, variable)` tuples.\n",
      " |        **kwargs: keyword arguments. Allowed arguments are `clipvalue`,\n",
      " |          `clipnorm`, `global_clipnorm`.\n",
      " |          If `clipvalue` (float) is set, the gradient of each weight\n",
      " |          is clipped to be no higher than this value.\n",
      " |          If `clipnorm` (float) is set, the gradient of each weight\n",
      " |          is individually clipped so that its norm is no higher than this\n",
      " |          value. If `global_clipnorm` (float) is set the gradient of all\n",
      " |          weights is clipped so that their global norm is no higher than this\n",
      " |          value.\n",
      " |      \n",
      " |      Raises:\n",
      " |        ValueError: in case of any invalid argument.\n",
      " |  \n",
      " |  get_config(self)\n",
      " |      Returns the config of the optimizer.\n",
      " |      \n",
      " |      An optimizer config is a Python dictionary (serializable)\n",
      " |      containing the configuration of an optimizer.\n",
      " |      The same optimizer can be reinstantiated later\n",
      " |      (without any saved state) from this configuration.\n",
      " |      \n",
      " |      Returns:\n",
      " |          Python dictionary.\n",
      " |  \n",
      " |  ----------------------------------------------------------------------\n",
      " |  Methods inherited from keras.optimizers.legacy.optimizer_v2.OptimizerV2:\n",
      " |  \n",
      " |  __dir__(self)\n",
      " |      Default dir() implementation.\n",
      " |  \n",
      " |  __getattribute__(self, name)\n",
      " |      Overridden to support hyperparameter access.\n",
      " |  \n",
      " |  __setattr__(self, name, value)\n",
      " |      Override setattr to support dynamic hyperparameter setting.\n",
      " |  \n",
      " |  add_slot(self, var, slot_name, initializer='zeros', shape=None)\n",
      " |      Add a new slot variable for `var`.\n",
      " |      \n",
      " |      A slot variable is an additional variable associated with `var` to\n",
      " |      train.  It is allocated and managed by optimizers, e.g. `Adam`.\n",
      " |      \n",
      " |      Args:\n",
      " |        var: a `Variable` object.\n",
      " |        slot_name: name of the slot variable.\n",
      " |        initializer: initializer of the slot variable\n",
      " |        shape: (Optional) shape of the slot variable. If not set, it will\n",
      " |          default to the shape of `var`.\n",
      " |      \n",
      " |      Returns:\n",
      " |        A slot variable.\n",
      " |  \n",
      " |  add_weight(self, name, shape, dtype=None, initializer='zeros', trainable=None, synchronization=<VariableSynchronization.AUTO: 0>, aggregation=<VariableAggregationV2.NONE: 0>)\n",
      " |  \n",
      " |  apply_gradients(self, grads_and_vars, name=None, experimental_aggregate_gradients=True)\n",
      " |      Apply gradients to variables.\n",
      " |      \n",
      " |      This is the second part of `minimize()`. It returns an `Operation` that\n",
      " |      applies gradients.\n",
      " |      \n",
      " |      The method sums gradients from all replicas in the presence of\n",
      " |      `tf.distribute.Strategy` by default. You can aggregate gradients\n",
      " |      yourself by passing `experimental_aggregate_gradients=False`.\n",
      " |      \n",
      " |      Example:\n",
      " |      \n",
      " |      ```python\n",
      " |      grads = tape.gradient(loss, vars)\n",
      " |      grads = tf.distribute.get_replica_context().all_reduce('sum', grads)\n",
      " |      # Processing aggregated gradients.\n",
      " |      optimizer.apply_gradients(zip(grads, vars),\n",
      " |          experimental_aggregate_gradients=False)\n",
      " |      \n",
      " |      ```\n",
      " |      \n",
      " |      Args:\n",
      " |        grads_and_vars: List of (gradient, variable) pairs.\n",
      " |        name: Optional name for the returned operation. Default to the name\n",
      " |          passed to the `Optimizer` constructor.\n",
      " |        experimental_aggregate_gradients: Whether to sum gradients from\n",
      " |          different replicas in the presence of `tf.distribute.Strategy`. If\n",
      " |          False, it's user responsibility to aggregate the gradients. Default\n",
      " |          to True.\n",
      " |      \n",
      " |      Returns:\n",
      " |        An `Operation` that applies the specified gradients. The `iterations`\n",
      " |        will be automatically increased by 1.\n",
      " |      \n",
      " |      Raises:\n",
      " |        TypeError: If `grads_and_vars` is malformed.\n",
      " |        ValueError: If none of the variables have gradients.\n",
      " |        RuntimeError: If called in a cross-replica context.\n",
      " |  \n",
      " |  get_gradients(self, loss, params)\n",
      " |      Returns gradients of `loss` with respect to `params`.\n",
      " |      \n",
      " |      Should be used only in legacy v1 graph mode.\n",
      " |      \n",
      " |      Args:\n",
      " |        loss: Loss tensor.\n",
      " |        params: List of variables.\n",
      " |      \n",
      " |      Returns:\n",
      " |        List of gradient tensors.\n",
      " |      \n",
      " |      Raises:\n",
      " |        ValueError: In case any gradient cannot be computed (e.g. if gradient\n",
      " |          function not implemented).\n",
      " |  \n",
      " |  get_slot(self, var, slot_name)\n",
      " |  \n",
      " |  get_slot_names(self)\n",
      " |      A list of names for this optimizer's slots.\n",
      " |  \n",
      " |  get_updates(self, loss, params)\n",
      " |  \n",
      " |  get_weights(self)\n",
      " |      Returns the current weights of the optimizer.\n",
      " |      \n",
      " |      The weights of an optimizer are its state (ie, variables).\n",
      " |      This function returns the weight values associated with this\n",
      " |      optimizer as a list of Numpy arrays. The first value is always the\n",
      " |      iterations count of the optimizer, followed by the optimizer's state\n",
      " |      variables in the order they were created. The returned list can in turn\n",
      " |      be used to load state into similarly parameterized optimizers.\n",
      " |      \n",
      " |      For example, the RMSprop optimizer for this simple model returns a list\n",
      " |      of three values-- the iteration count, followed by the root-mean-square\n",
      " |      value of the kernel and bias of the single Dense layer:\n",
      " |      \n",
      " |      >>> opt = tf.keras.optimizers.legacy.RMSprop()\n",
      " |      >>> m = tf.keras.models.Sequential([tf.keras.layers.Dense(10)])\n",
      " |      >>> m.compile(opt, loss='mse')\n",
      " |      >>> data = np.arange(100).reshape(5, 20)\n",
      " |      >>> labels = np.zeros(5)\n",
      " |      >>> results = m.fit(data, labels)  # Training.\n",
      " |      >>> len(opt.get_weights())\n",
      " |      3\n",
      " |      \n",
      " |      Returns:\n",
      " |          Weights values as a list of numpy arrays.\n",
      " |  \n",
      " |  minimize(self, loss, var_list, grad_loss=None, name=None, tape=None)\n",
      " |      Minimize `loss` by updating `var_list`.\n",
      " |      \n",
      " |      This method simply computes gradient using `tf.GradientTape` and calls\n",
      " |      `apply_gradients()`. If you want to process the gradient before applying\n",
      " |      then call `tf.GradientTape` and `apply_gradients()` explicitly instead\n",
      " |      of using this function.\n",
      " |      \n",
      " |      Args:\n",
      " |        loss: `Tensor` or callable. If a callable, `loss` should take no\n",
      " |          arguments and return the value to minimize. If a `Tensor`, the\n",
      " |          `tape` argument must be passed.\n",
      " |        var_list: list or tuple of `Variable` objects to update to minimize\n",
      " |          `loss`, or a callable returning the list or tuple of `Variable`\n",
      " |          objects.  Use callable when the variable list would otherwise be\n",
      " |          incomplete before `minimize` since the variables are created at the\n",
      " |          first time `loss` is called.\n",
      " |        grad_loss: (Optional). A `Tensor` holding the gradient computed for\n",
      " |          `loss`.\n",
      " |        name: (Optional) str. Name for the returned operation.\n",
      " |        tape: (Optional) `tf.GradientTape`. If `loss` is provided as a\n",
      " |          `Tensor`, the tape that computed the `loss` must be provided.\n",
      " |      \n",
      " |      Returns:\n",
      " |        An `Operation` that updates the variables in `var_list`. The\n",
      " |        `iterations` will be automatically increased by 1.\n",
      " |      \n",
      " |      Raises:\n",
      " |        ValueError: If some of the variables are not `Variable` objects.\n",
      " |  \n",
      " |  set_weights(self, weights)\n",
      " |      Set the weights of the optimizer.\n",
      " |      \n",
      " |      The weights of an optimizer are its state (ie, variables).\n",
      " |      This function takes the weight values associated with this\n",
      " |      optimizer as a list of Numpy arrays. The first value is always the\n",
      " |      iterations count of the optimizer, followed by the optimizer's state\n",
      " |      variables in the order they are created. The passed values are used to\n",
      " |      set the new state of the optimizer.\n",
      " |      \n",
      " |      For example, the RMSprop optimizer for this simple model takes a list of\n",
      " |      three values-- the iteration count, followed by the root-mean-square\n",
      " |      value of the kernel and bias of the single Dense layer:\n",
      " |      \n",
      " |      >>> opt = tf.keras.optimizers.legacy.RMSprop()\n",
      " |      >>> m = tf.keras.models.Sequential([tf.keras.layers.Dense(10)])\n",
      " |      >>> m.compile(opt, loss='mse')\n",
      " |      >>> data = np.arange(100).reshape(5, 20)\n",
      " |      >>> labels = np.zeros(5)\n",
      " |      >>> results = m.fit(data, labels)  # Training.\n",
      " |      >>> new_weights = [np.array(10), np.ones([20, 10]), np.zeros([10])]\n",
      " |      >>> opt.set_weights(new_weights)\n",
      " |      >>> opt.iterations\n",
      " |      <tf.Variable 'RMSprop/iter:0' shape=() dtype=int64, numpy=10>\n",
      " |      \n",
      " |      Args:\n",
      " |          weights: weight values as a list of numpy arrays.\n",
      " |  \n",
      " |  variables(self)\n",
      " |      Returns variables of this Optimizer based on the order created.\n",
      " |  \n",
      " |  ----------------------------------------------------------------------\n",
      " |  Class methods inherited from keras.optimizers.legacy.optimizer_v2.OptimizerV2:\n",
      " |  \n",
      " |  from_config(config, custom_objects=None) from builtins.type\n",
      " |      Creates an optimizer from its config.\n",
      " |      \n",
      " |      This method is the reverse of `get_config`,\n",
      " |      capable of instantiating the same optimizer from the config\n",
      " |      dictionary.\n",
      " |      \n",
      " |      Args:\n",
      " |          config: A Python dictionary, typically the output of get_config.\n",
      " |          custom_objects: A Python dictionary mapping names to additional\n",
      " |            Python objects used to create this optimizer, such as a function\n",
      " |            used for a hyperparameter.\n",
      " |      \n",
      " |      Returns:\n",
      " |          An optimizer instance.\n",
      " |  \n",
      " |  ----------------------------------------------------------------------\n",
      " |  Readonly properties inherited from keras.optimizers.legacy.optimizer_v2.OptimizerV2:\n",
      " |  \n",
      " |  weights\n",
      " |      Returns variables of this Optimizer based on the order created.\n",
      " |  \n",
      " |  ----------------------------------------------------------------------\n",
      " |  Data descriptors inherited from keras.optimizers.legacy.optimizer_v2.OptimizerV2:\n",
      " |  \n",
      " |  clipnorm\n",
      " |      `float` or `None`. If set, clips gradients to a maximum norm.\n",
      " |  \n",
      " |  clipvalue\n",
      " |      `float` or `None`. If set, clips gradients to a maximum value.\n",
      " |  \n",
      " |  global_clipnorm\n",
      " |      `float` or `None`.\n",
      " |      \n",
      " |      If set, clips gradients to a maximum norm.\n",
      " |      \n",
      " |      Check `tf.clip_by_global_norm` for more details.\n",
      " |  \n",
      " |  iterations\n",
      " |      Variable. The number of training steps this Optimizer has run.\n",
      " |  \n",
      " |  ----------------------------------------------------------------------\n",
      " |  Data descriptors inherited from tensorflow.python.trackable.base.Trackable:\n",
      " |  \n",
      " |  __dict__\n",
      " |      dictionary for instance variables (if defined)\n",
      " |  \n",
      " |  __weakref__\n",
      " |      list of weak references to the object (if defined)\n",
      "\n",
      "None\n",
      "\n",
      "Attributes and methods of SGD object:\n",
      "['_HAS_AGGREGATE_GRAD', '__class__', '__delattr__', '__dict__', '__dir__', '__doc__', '__eq__', '__format__', '__ge__', '__getattribute__', '__gt__', '__hash__', '__init__', '__init_subclass__', '__le__', '__lt__', '__module__', '__ne__', '__new__', '__reduce__', '__reduce_ex__', '__repr__', '__setattr__', '__sizeof__', '__str__', '__subclasshook__', '__weakref__', '_add_trackable_child', '_add_variable_with_custom_getter', '_aggregate_gradients', '_assert_valid_dtypes', '_call_if_callable', '_checkpoint_dependencies', '_clipnorm', '_clipnorm_fn', '_clipvalue', '_clipvalue_fn', '_compute_gradients', '_create_all_weights', '_create_hypers', '_create_or_restore_slot_variable', '_create_slots', '_create_slots_for_sharded_variables', '_decayed_lr', '_deferred_dependencies', '_deferred_slot_restorations', '_dense_apply_args', '_deserialization_dependencies', '_deserialize_from_proto', '_distributed_apply', '_distribution_strategy', '_distribution_strategy_scope', '_export_to_saved_model_graph', '_fallback_apply_state', '_gather_saveables_for_checkpoint', '_get_gradients', '_get_hyper', '_global_clipnorm', '_global_clipnorm_fn', '_handle_deferred_dependencies', '_hyper', '_hypers_created', '_init_set_name', '_initial_decay', '_iterations', '_keras_api_names', '_keras_api_names_v1', '_lookup_dependency', '_maybe_initialize_trackable', '_momentum', '_name', '_name_based_attribute_restore', '_name_based_restores', '_no_dependency', '_object_identifier', '_preload_simple_restoration', '_prepare', '_prepare_local', '_resource_apply_dense', '_resource_apply_sparse', '_resource_apply_sparse_duplicate_indices', '_resource_scatter_add', '_resource_scatter_update', '_restore_from_tensors', '_restore_slot_variable', '_serialize_hyperparameter', '_serialize_to_proto', '_serialize_to_tensors', '_set_hyper', '_setattr_tracking', '_slot_names', '_slots', '_sparse_apply_args', '_tf_api_names', '_tf_api_names_v1', '_track_trackable', '_trackable_children', '_transform_gradients', '_transform_loss', '_transform_unaggregated_gradients', '_unconditional_checkpoint_dependencies', '_unconditional_dependency_names', '_update_uid', '_use_locking', '_valid_dtypes', '_weights', 'add_slot', 'add_weight', 'apply_gradients', 'clipnorm', 'clipvalue', 'decay', 'from_config', 'get_config', 'get_gradients', 'get_slot', 'get_slot_names', 'get_updates', 'get_weights', 'global_clipnorm', 'gradient_aggregator', 'gradient_transformers', 'iterations', 'learning_rate', 'lr', 'minimize', 'momentum', 'nesterov', 'set_weights', 'variables', 'weights']\n"
     ]
    }
   ],
   "source": [
    "# Your code here - copy the relevant parts from the previous section and add more cells as needed\n",
    "from keras.optimizers import SGD\n",
    "\n",
    "# Get help on the SGD class\n",
    "print(\"Help on SGD class:\")\n",
    "print(help(SGD))\n",
    "\n",
    "# Create an instance of SGD\n",
    "sgd = SGD()\n",
    "\n",
    "# Print the attributes and methods of the SGD object\n",
    "print(\"\\nAttributes and methods of SGD object:\")\n",
    "print(dir(sgd))\n"
   ]
  },
  {
   "cell_type": "code",
   "execution_count": 17,
   "metadata": {},
   "outputs": [
    {
     "name": "stdout",
     "output_type": "stream",
     "text": [
      "Model: \"sequential_2\"\n",
      "_________________________________________________________________\n",
      " Layer (type)                Output Shape              Param #   \n",
      "=================================================================\n",
      " dense_6 (Dense)             (None, 64)                4160      \n",
      "                                                                 \n",
      " dense_7 (Dense)             (None, 64)                4160      \n",
      "                                                                 \n",
      " dense_8 (Dense)             (None, 10)                650       \n",
      "                                                                 \n",
      "=================================================================\n",
      "Total params: 8,970\n",
      "Trainable params: 8,970\n",
      "Non-trainable params: 0\n",
      "_________________________________________________________________\n",
      "Epoch 1/15\n",
      "45/45 [==============================] - 1s 9ms/step - loss: 3.8564 - accuracy: 0.1260\n",
      "Epoch 2/15\n",
      "45/45 [==============================] - 1s 12ms/step - loss: 2.0524 - accuracy: 0.3138\n",
      "Epoch 3/15\n",
      "45/45 [==============================] - 1s 12ms/step - loss: 1.4828 - accuracy: 0.5024\n",
      "Epoch 4/15\n",
      "45/45 [==============================] - 1s 20ms/step - loss: 1.1578 - accuracy: 0.6319\n",
      "Epoch 5/15\n",
      "45/45 [==============================] - 1s 12ms/step - loss: 0.9479 - accuracy: 0.6994\n",
      "Epoch 6/15\n",
      "45/45 [==============================] - 1s 11ms/step - loss: 0.8063 - accuracy: 0.7390\n",
      "Epoch 7/15\n",
      "45/45 [==============================] - 1s 14ms/step - loss: 0.7030 - accuracy: 0.7766\n",
      "Epoch 8/15\n",
      "45/45 [==============================] - 1s 16ms/step - loss: 0.6243 - accuracy: 0.8010\n",
      "Epoch 9/15\n",
      "45/45 [==============================] - 0s 10ms/step - loss: 0.5634 - accuracy: 0.8246\n",
      "Epoch 10/15\n",
      "45/45 [==============================] - 0s 11ms/step - loss: 0.5096 - accuracy: 0.8455\n",
      "Epoch 11/15\n",
      "45/45 [==============================] - 1s 25ms/step - loss: 0.4676 - accuracy: 0.8573\n",
      "Epoch 12/15\n",
      "45/45 [==============================] - 0s 8ms/step - loss: 0.4310 - accuracy: 0.8761\n",
      "Epoch 13/15\n",
      "45/45 [==============================] - 1s 23ms/step - loss: 0.4005 - accuracy: 0.8831\n",
      "Epoch 14/15\n",
      "45/45 [==============================] - 0s 11ms/step - loss: 0.3748 - accuracy: 0.8935\n",
      "Epoch 15/15\n",
      "45/45 [==============================] - 1s 15ms/step - loss: 0.3526 - accuracy: 0.8977\n"
     ]
    }
   ],
   "source": [
    "# Your code here\n",
    "from tensorflow.keras import optimizers\n",
    "model = Sequential()\n",
    "\n",
    "# Input layer\n",
    "model.add(Dense(64, activation='relu', input_shape=(64,))) # 64 neurons, ReLU activation, input shape of 64\n",
    "\n",
    "# Hidden layer\n",
    "model.add(Dense(64, activation='relu')) # 64 neurons, ReLU activation\n",
    "\n",
    "# Output layer\n",
    "model.add(Dense(10, activation='softmax')) # 10 neurons, softmax activation\n",
    "\n",
    "model.summary()\n",
    "\n",
    "model.compile(optimizer=optimizers.SGD(learning_rate=0.001), loss='categorical_crossentropy', metrics=['accuracy'])\n",
    "history = model.fit(X_train, y_train, epochs=15, batch_size=32)"
   ]
  },
  {
   "cell_type": "markdown",
   "metadata": {},
   "source": [
    "Next, let's try a more advanced optimizer. Adam is likely the most popular optimizer for deep learning. It is an adaptive learning rate optimizer, which means that it automatically adjusts the learning rate based on how the training is going. This can be very useful, as it means that we don't need to manually tune the learning rate. Let's see how it performs on our model.\n",
    "\n",
    "\n",
    "1. Replace the SGD optimizer by the Adam optimizer from keras and run it\n",
    "  with the default parameters.\n",
    "\n",
    "2. Add another hidden layer with ReLU activation and 64 neurons. Does it improve the model performance?\n"
   ]
  },
  {
   "cell_type": "code",
   "execution_count": 18,
   "metadata": {},
   "outputs": [
    {
     "name": "stdout",
     "output_type": "stream",
     "text": [
      "Model: \"sequential_3\"\n",
      "_________________________________________________________________\n",
      " Layer (type)                Output Shape              Param #   \n",
      "=================================================================\n",
      " dense_9 (Dense)             (None, 64)                4160      \n",
      "                                                                 \n",
      " dense_10 (Dense)            (None, 64)                4160      \n",
      "                                                                 \n",
      " dense_11 (Dense)            (None, 10)                650       \n",
      "                                                                 \n",
      "=================================================================\n",
      "Total params: 8,970\n",
      "Trainable params: 8,970\n",
      "Non-trainable params: 0\n",
      "_________________________________________________________________\n",
      "Epoch 1/15\n",
      "45/45 [==============================] - 2s 23ms/step - loss: 1.5570 - accuracy: 0.6186\n",
      "Epoch 2/15\n",
      "45/45 [==============================] - 1s 20ms/step - loss: 0.2846 - accuracy: 0.8956\n",
      "Epoch 3/15\n",
      "45/45 [==============================] - 1s 10ms/step - loss: 0.1720 - accuracy: 0.9471\n",
      "Epoch 4/15\n",
      "45/45 [==============================] - 0s 9ms/step - loss: 0.1386 - accuracy: 0.9541\n",
      "Epoch 5/15\n",
      "45/45 [==============================] - 1s 21ms/step - loss: 0.0659 - accuracy: 0.9819\n",
      "Epoch 6/15\n",
      "45/45 [==============================] - 1s 17ms/step - loss: 0.0336 - accuracy: 0.9923\n",
      "Epoch 7/15\n",
      "45/45 [==============================] - 1s 15ms/step - loss: 0.0354 - accuracy: 0.9903\n",
      "Epoch 8/15\n",
      "45/45 [==============================] - 1s 11ms/step - loss: 0.0479 - accuracy: 0.9833\n",
      "Epoch 9/15\n",
      "45/45 [==============================] - 1s 26ms/step - loss: 0.0202 - accuracy: 0.9930\n",
      "Epoch 10/15\n",
      "45/45 [==============================] - 1s 21ms/step - loss: 0.0180 - accuracy: 0.9944\n",
      "Epoch 11/15\n",
      "45/45 [==============================] - 1s 13ms/step - loss: 0.0105 - accuracy: 0.9979\n",
      "Epoch 12/15\n",
      "45/45 [==============================] - 1s 20ms/step - loss: 0.0085 - accuracy: 0.9986\n",
      "Epoch 13/15\n",
      "45/45 [==============================] - 0s 8ms/step - loss: 0.0049 - accuracy: 0.9993\n",
      "Epoch 14/15\n",
      "45/45 [==============================] - 0s 10ms/step - loss: 0.0038 - accuracy: 0.9993\n",
      "Epoch 15/15\n",
      "45/45 [==============================] - 1s 13ms/step - loss: 0.0038 - accuracy: 1.0000\n"
     ]
    }
   ],
   "source": [
    "from tensorflow.keras import optimizers\n",
    "model = Sequential()\n",
    "\n",
    "# Input layer\n",
    "model.add(Dense(64, activation='relu', input_shape=(64,))) # 64 neurons, ReLU activation, input shape of 64\n",
    "\n",
    "# Hidden layer\n",
    "model.add(Dense(64, activation='relu')) # 64 neurons, ReLU activation\n",
    "\n",
    "# Output layer\n",
    "model.add(Dense(10, activation='softmax')) # 10 neurons, softmax activation\n",
    "\n",
    "model.summary()\n",
    "\n",
    "model.compile(optimizer=optimizers.SGD(learning_rate=0.01, momentum=0.9),loss='categorical_crossentropy', metrics=['accuracy'])\n",
    "history = model.fit(X_train, y_train, epochs=15, batch_size=32)"
   ]
  },
  {
   "cell_type": "markdown",
   "metadata": {},
   "source": [
    "### Exercises: Forward Pass and Generalization\n",
    "\n",
    "Let's look in more detail at how the model makes predictions on the test set. We will walk through each step of making predictions, examining exactly what's going on.\n",
    "\n",
    "To start, we will apply our model to the test set, and look at what we get as output:"
   ]
  },
  {
   "cell_type": "code",
   "execution_count": 19,
   "metadata": {},
   "outputs": [
    {
     "data": {
      "text/plain": [
       "<tf.Tensor: shape=(5, 10), dtype=float32, numpy=\n",
       "array([[2.07288373e-08, 3.64468122e-10, 2.43988078e-14, 1.01653694e-18,\n",
       "        1.87802662e-09, 5.11478568e-11, 1.00000000e+00, 1.48214246e-10,\n",
       "        1.74639733e-10, 3.89708238e-10],\n",
       "       [1.11509071e-05, 9.57779273e-11, 2.42014576e-14, 1.67036603e-07,\n",
       "        2.15976047e-06, 1.80800061e-03, 1.10409078e-11, 4.26158575e-09,\n",
       "        4.08822871e-07, 9.98178244e-01],\n",
       "       [7.32726796e-11, 3.38283637e-11, 8.90707241e-09, 9.99996781e-01,\n",
       "        1.70183008e-12, 6.93771929e-10, 4.10203789e-16, 4.53244629e-11,\n",
       "        1.08465244e-07, 3.07491155e-06],\n",
       "       [8.01806527e-05, 1.44504329e-08, 7.67905840e-14, 4.88951599e-08,\n",
       "        1.61682794e-04, 5.92144934e-05, 1.99372057e-08, 9.99603570e-01,\n",
       "        1.45631043e-06, 9.39430174e-05],\n",
       "       [1.46471047e-11, 5.69387950e-08, 9.99974012e-01, 1.07294163e-05,\n",
       "        3.63572540e-11, 1.77489010e-08, 8.61212074e-11, 3.01720676e-10,\n",
       "        1.51328377e-05, 8.92221907e-10]], dtype=float32)>"
      ]
     },
     "execution_count": 19,
     "metadata": {},
     "output_type": "execute_result"
    }
   ],
   "source": [
    "predictions_tf = model(X_test)\n",
    "predictions_tf[:5]"
   ]
  },
  {
   "cell_type": "code",
   "execution_count": 20,
   "metadata": {},
   "outputs": [
    {
     "data": {
      "text/plain": [
       "(tensorflow.python.framework.ops.EagerTensor, TensorShape([360, 10]))"
      ]
     },
     "execution_count": 20,
     "metadata": {},
     "output_type": "execute_result"
    }
   ],
   "source": [
    "type(predictions_tf), predictions_tf.shape"
   ]
  },
  {
   "cell_type": "markdown",
   "metadata": {},
   "source": [
    "The raw output of the model is a tensor of shape `(360, 10)`. This means that we have 360 samples, and for each sample we have 10 values. Each of these values represents the probability that the sample belongs to a given class. This means that we have 10 probabilities for each sample, and the sum of these probabilities is 1. We can confirm this by summing the probabilities for each sample:"
   ]
  },
  {
   "cell_type": "code",
   "execution_count": 21,
   "metadata": {},
   "outputs": [
    {
     "data": {
      "text/plain": [
       "<tf.Tensor: shape=(5,), dtype=float32, numpy=\n",
       "array([1.        , 1.0000001 , 0.99999994, 1.0000001 , 0.99999994],\n",
       "      dtype=float32)>"
      ]
     },
     "execution_count": 21,
     "metadata": {},
     "output_type": "execute_result"
    }
   ],
   "source": [
    "import tensorflow as tf\n",
    "\n",
    "tf.reduce_sum(predictions_tf, axis=1)[:5]"
   ]
  },
  {
   "cell_type": "markdown",
   "metadata": {
    "collapsed": false
   },
   "source": [
    "...okay, there might be a small rounding error here and there. This is to do with how floating point numbers are represented in computers, and it's not something we need to worry about for now."
   ]
  },
  {
   "cell_type": "markdown",
   "metadata": {},
   "source": [
    "We can also extract the label with the highest probability using the tensorflow API:"
   ]
  },
  {
   "cell_type": "code",
   "execution_count": 22,
   "metadata": {},
   "outputs": [
    {
     "data": {
      "text/plain": [
       "<tf.Tensor: shape=(5,), dtype=int64, numpy=array([6, 9, 3, 7, 2])>"
      ]
     },
     "execution_count": 22,
     "metadata": {},
     "output_type": "execute_result"
    }
   ],
   "source": [
    "predicted_labels_tf = tf.argmax(predictions_tf, axis=1)\n",
    "predicted_labels_tf[:5]"
   ]
  },
  {
   "cell_type": "markdown",
   "metadata": {
    "collapsed": false
   },
   "source": [
    "One helpful aspect of this approach is that we don't just get the prediction, but also a sense of how confident the model is in its prediction. To see this in practice, let's take a look at some of the predictions the model is highly confident about (i.e. a lot of the probability mass is on one class):"
   ]
  },
  {
   "cell_type": "code",
   "execution_count": 23,
   "metadata": {
    "collapsed": false
   },
   "outputs": [
    {
     "data": {
      "image/png": "[encoded data removed]",
      "text/plain": [
       "<Figure size 600x600 with 9 Axes>"
      ]
     },
     "metadata": {},
     "output_type": "display_data"
    }
   ],
   "source": [
    "# Get the values corresponding to the predicted labels for each sample\n",
    "predicted_values_tf = tf.reduce_max(predictions_tf, axis=1)\n",
    "\n",
    "# Get the indices of the samples with the highest predicted values\n",
    "most_confident_indices_tf = tf.argsort(predicted_values_tf, direction='DESCENDING').numpy()[:9]\n",
    "\n",
    "# Get the 9 most confident samples\n",
    "most_confident_samples_tf = X_test[most_confident_indices_tf]\n",
    "\n",
    "# Get the true labels for the 9 most confident samples\n",
    "most_confident_labels_tf = np.argmax(y_test[most_confident_indices_tf], axis=1)\n",
    "\n",
    "# Plot the 9 most confident samples\n",
    "fig, axes = plt.subplots(3, 3, figsize=(6, 6))\n",
    "\n",
    "for i, ax in enumerate(axes.flat):\n",
    "    ax.imshow(most_confident_samples_tf[i].reshape(8, 8), cmap=plt.cm.gray_r, interpolation='nearest')\n",
    "    ax.set_title(f\"{most_confident_labels_tf[i]}\")\n",
    "\n",
    "    # Removing axis labels\n",
    "    ax.set_xticks([])\n",
    "    ax.set_yticks([])\n",
    "    \n",
    "plt.show()"
   ]
  },
  {
   "cell_type": "markdown",
   "metadata": {},
   "source": [
    "## Impact of Initialization\n",
    "\n",
    "Let's study the impact of a bad initialization when training\n",
    "a deep feed forward network.\n",
    "\n",
    "By default, Keras dense layers use the \"Glorot Uniform\" initialization\n",
    "strategy to initialize the weight matrices:\n",
    "\n",
    "- each weight coefficient is randomly sampled from [-scale, scale]\n",
    "- scale is proportional to $\\frac{1}{\\sqrt{n_{in} + n_{out}}}$\n",
    "\n",
    "This strategy is known to work well to initialize deep neural networks\n",
    "with \"tanh\" or \"relu\" activation functions and then trained with\n",
    "standard SGD.\n",
    "\n",
    "To assess the impact of initialization let us plug an alternative init\n",
    "scheme into a 2 hidden layers networks with \"tanh\" activations.\n",
    "For the sake of the example let's use normal distributed weights\n",
    "with a manually adjustable scale (standard deviation) and see the\n",
    "impact the scale value:"
   ]
  },
  {
   "cell_type": "code",
   "execution_count": 24,
   "metadata": {},
   "outputs": [],
   "source": [
    "from tensorflow.keras import initializers\n",
    "from tensorflow.keras import optimizers\n",
    "\n",
    "input_dim = 64\n",
    "hidden_dim = 64\n",
    "output_dim = 10\n",
    "\n",
    "normal_init = initializers.TruncatedNormal(stddev=0.01, seed=42)\n",
    "\n",
    "model = Sequential()\n",
    "model.add(Dense(hidden_dim, input_dim=input_dim, activation=\"tanh\",\n",
    "                kernel_initializer=normal_init))\n",
    "model.add(Dense(hidden_dim, activation=\"tanh\",\n",
    "                kernel_initializer=normal_init))\n",
    "model.add(Dense(output_dim, activation=\"softmax\",\n",
    "                kernel_initializer=normal_init))\n",
    "\n",
    "model.compile(optimizer=optimizers.SGD(learning_rate=0.1),\n",
    "              loss='categorical_crossentropy', metrics=['accuracy'])"
   ]
  },
  {
   "cell_type": "code",
   "execution_count": 25,
   "metadata": {},
   "outputs": [
    {
     "data": {
      "text/plain": [
       "[<keras.layers.core.dense.Dense at 0x7fa9574f97f0>,\n",
       " <keras.layers.core.dense.Dense at 0x7fa9553ef790>,\n",
       " <keras.layers.core.dense.Dense at 0x7fa9553efc70>]"
      ]
     },
     "execution_count": 25,
     "metadata": {},
     "output_type": "execute_result"
    }
   ],
   "source": [
    "model.layers"
   ]
  },
  {
   "cell_type": "markdown",
   "metadata": {},
   "source": [
    "Let's have a look at the parameters of the first layer after initialization but before any training has happened:"
   ]
  },
  {
   "cell_type": "code",
   "execution_count": 26,
   "metadata": {},
   "outputs": [
    {
     "data": {
      "text/plain": [
       "[<tf.Variable 'dense_12/kernel:0' shape=(64, 64) dtype=float32, numpy=\n",
       " array([[ 0.00015817, -0.01590087,  0.00103594, ...,  0.00962818,\n",
       "          0.00624957,  0.00994726],\n",
       "        [ 0.0081879 ,  0.00756818, -0.00668142, ...,  0.01084459,\n",
       "         -0.00317478, -0.00549116],\n",
       "        [-0.00086618, -0.00287623,  0.00391693, ...,  0.00064558,\n",
       "         -0.00420471,  0.00174566],\n",
       "        ...,\n",
       "        [-0.0029006 , -0.0091218 ,  0.00804327, ..., -0.01407086,\n",
       "          0.00952832, -0.01348555],\n",
       "        [ 0.00375078,  0.00967842,  0.00098119, ..., -0.00413454,\n",
       "          0.01695471,  0.00025196],\n",
       "        [ 0.00459809,  0.01223094, -0.00213172, ...,  0.01246831,\n",
       "         -0.00714749, -0.00868595]], dtype=float32)>,\n",
       " <tf.Variable 'dense_12/bias:0' shape=(64,) dtype=float32, numpy=\n",
       " array([0., 0., 0., 0., 0., 0., 0., 0., 0., 0., 0., 0., 0., 0., 0., 0., 0.,\n",
       "        0., 0., 0., 0., 0., 0., 0., 0., 0., 0., 0., 0., 0., 0., 0., 0., 0.,\n",
       "        0., 0., 0., 0., 0., 0., 0., 0., 0., 0., 0., 0., 0., 0., 0., 0., 0.,\n",
       "        0., 0., 0., 0., 0., 0., 0., 0., 0., 0., 0., 0., 0.], dtype=float32)>]"
      ]
     },
     "execution_count": 26,
     "metadata": {},
     "output_type": "execute_result"
    }
   ],
   "source": [
    "model.layers[0].weights"
   ]
  },
  {
   "cell_type": "code",
   "execution_count": 27,
   "metadata": {},
   "outputs": [
    {
     "data": {
      "text/plain": [
       "array([[ 0.00015817, -0.01590087,  0.00103594, ...,  0.00962818,\n",
       "         0.00624957,  0.00994726],\n",
       "       [ 0.0081879 ,  0.00756818, -0.00668142, ...,  0.01084459,\n",
       "        -0.00317478, -0.00549116],\n",
       "       [-0.00086618, -0.00287623,  0.00391693, ...,  0.00064558,\n",
       "        -0.00420471,  0.00174566],\n",
       "       ...,\n",
       "       [-0.0029006 , -0.0091218 ,  0.00804327, ..., -0.01407086,\n",
       "         0.00952832, -0.01348555],\n",
       "       [ 0.00375078,  0.00967842,  0.00098119, ..., -0.00413454,\n",
       "         0.01695471,  0.00025196],\n",
       "       [ 0.00459809,  0.01223094, -0.00213172, ...,  0.01246831,\n",
       "        -0.00714749, -0.00868595]], dtype=float32)"
      ]
     },
     "execution_count": 27,
     "metadata": {},
     "output_type": "execute_result"
    }
   ],
   "source": [
    "w = model.layers[0].weights[0].numpy()\n",
    "w"
   ]
  },
  {
   "cell_type": "code",
   "execution_count": 28,
   "metadata": {},
   "outputs": [
    {
     "data": {
      "text/plain": [
       "0.008835949"
      ]
     },
     "execution_count": 28,
     "metadata": {},
     "output_type": "execute_result"
    }
   ],
   "source": [
    "w.std()"
   ]
  },
  {
   "cell_type": "code",
   "execution_count": 29,
   "metadata": {},
   "outputs": [
    {
     "data": {
      "text/plain": [
       "array([0., 0., 0., 0., 0., 0., 0., 0., 0., 0., 0., 0., 0., 0., 0., 0., 0.,\n",
       "       0., 0., 0., 0., 0., 0., 0., 0., 0., 0., 0., 0., 0., 0., 0., 0., 0.,\n",
       "       0., 0., 0., 0., 0., 0., 0., 0., 0., 0., 0., 0., 0., 0., 0., 0., 0.,\n",
       "       0., 0., 0., 0., 0., 0., 0., 0., 0., 0., 0., 0., 0.], dtype=float32)"
      ]
     },
     "execution_count": 29,
     "metadata": {},
     "output_type": "execute_result"
    }
   ],
   "source": [
    "b = model.layers[0].weights[1].numpy()\n",
    "b"
   ]
  },
  {
   "cell_type": "code",
   "execution_count": 30,
   "metadata": {},
   "outputs": [
    {
     "name": "stdout",
     "output_type": "stream",
     "text": [
      "Epoch 1/15\n",
      "45/45 [==============================] - 1s 17ms/step - loss: 2.2860 - accuracy: 0.1865\n",
      "Epoch 2/15\n",
      "45/45 [==============================] - 1s 15ms/step - loss: 1.7353 - accuracy: 0.4565\n",
      "Epoch 3/15\n",
      "45/45 [==============================] - 1s 18ms/step - loss: 1.0538 - accuracy: 0.7070\n",
      "Epoch 4/15\n",
      "45/45 [==============================] - 1s 12ms/step - loss: 0.5300 - accuracy: 0.8727\n",
      "Epoch 5/15\n",
      "45/45 [==============================] - 1s 17ms/step - loss: 0.3221 - accuracy: 0.9137\n",
      "Epoch 6/15\n",
      "45/45 [==============================] - 1s 13ms/step - loss: 0.2142 - accuracy: 0.9506\n",
      "Epoch 7/15\n",
      "45/45 [==============================] - 1s 12ms/step - loss: 0.1940 - accuracy: 0.9527\n",
      "Epoch 8/15\n",
      "45/45 [==============================] - 0s 8ms/step - loss: 0.1617 - accuracy: 0.9548\n",
      "Epoch 9/15\n",
      "45/45 [==============================] - 1s 12ms/step - loss: 0.1209 - accuracy: 0.9736\n",
      "Epoch 10/15\n",
      "45/45 [==============================] - 0s 9ms/step - loss: 0.1166 - accuracy: 0.9687\n",
      "Epoch 11/15\n",
      "45/45 [==============================] - 0s 10ms/step - loss: 0.0796 - accuracy: 0.9847\n",
      "Epoch 12/15\n",
      "45/45 [==============================] - 0s 10ms/step - loss: 0.0674 - accuracy: 0.9854\n",
      "Epoch 13/15\n",
      "45/45 [==============================] - 0s 9ms/step - loss: 0.0544 - accuracy: 0.9903\n",
      "Epoch 14/15\n",
      "45/45 [==============================] - 0s 9ms/step - loss: 0.0756 - accuracy: 0.9763\n",
      "Epoch 15/15\n",
      "45/45 [==============================] - 1s 13ms/step - loss: 0.0599 - accuracy: 0.9812\n"
     ]
    },
    {
     "data": {
      "image/png": "[encoded data removed]",
      "text/plain": [
       "<Figure size 1200x400 with 1 Axes>"
      ]
     },
     "metadata": {},
     "output_type": "display_data"
    }
   ],
   "source": [
    "history = model.fit(X_train, y_train, epochs=15, batch_size=32)\n",
    "\n",
    "plt.figure(figsize=(12, 4))\n",
    "plt.plot(history.history['loss'], label=\"Truncated Normal init\")\n",
    "plt.legend();"
   ]
  },
  {
   "cell_type": "markdown",
   "metadata": {},
   "source": [
    "Once the model has been fit, the weights have been updated and notably the biases are no longer 0:"
   ]
  },
  {
   "cell_type": "code",
   "execution_count": 31,
   "metadata": {},
   "outputs": [
    {
     "data": {
      "text/plain": [
       "[<tf.Variable 'dense_12/kernel:0' shape=(64, 64) dtype=float32, numpy=\n",
       " array([[ 1.58170762e-04, -1.59008689e-02,  1.03594456e-03, ...,\n",
       "          9.62818228e-03,  6.24957308e-03,  9.94726177e-03],\n",
       "        [ 1.17254322e-02, -1.52515294e-02,  2.85968673e-03, ...,\n",
       "         -8.96701775e-03, -1.35403341e-02, -3.80187929e-02],\n",
       "        [ 3.08790319e-02, -6.88112229e-02, -5.78749627e-02, ...,\n",
       "         -2.88593918e-02, -1.21886685e-01,  2.97322217e-02],\n",
       "        ...,\n",
       "        [ 1.88049842e-02,  5.40731773e-02,  1.76621109e-01, ...,\n",
       "         -1.09811053e-01,  8.55701268e-02, -1.93933204e-01],\n",
       "        [ 2.53564995e-02,  1.63688231e-02,  1.38537467e-01, ...,\n",
       "         -6.84964582e-02, -9.87700839e-03, -1.13616593e-01],\n",
       "        [ 3.46579030e-02,  2.03938391e-02,  5.06826714e-02, ...,\n",
       "          4.52669300e-02,  2.40870267e-02, -5.01797497e-02]], dtype=float32)>,\n",
       " <tf.Variable 'dense_12/bias:0' shape=(64,) dtype=float32, numpy=\n",
       " array([-5.8072689e-04, -7.3273014e-04,  2.5906658e-03, -4.9850694e-03,\n",
       "        -1.2272611e-03, -2.5522700e-04, -9.7729766e-04, -9.2398614e-04,\n",
       "         6.5701094e-04, -1.2918109e-03,  5.9872551e-04,  4.0766606e-03,\n",
       "         1.0854467e-03,  1.3653993e-03, -9.1477652e-04, -2.3392390e-03,\n",
       "        -1.7382554e-03,  1.0176195e-03, -9.9339278e-04, -5.6291558e-03,\n",
       "         7.3788821e-04, -1.1344593e-03,  2.3862114e-03,  1.4450813e-03,\n",
       "         5.3926483e-03,  1.4152175e-05, -2.4978847e-03,  7.0530945e-04,\n",
       "        -1.1649302e-03, -4.9630436e-04,  3.7114762e-03,  6.7054137e-04,\n",
       "         5.9482298e-04,  3.0751730e-04,  3.2155542e-05, -1.2829567e-03,\n",
       "         4.2079546e-04, -5.8541365e-04,  2.7924848e-03, -3.7253760e-03,\n",
       "         3.0812696e-03, -2.5120928e-04, -3.5497569e-04,  4.1459664e-04,\n",
       "         6.9881295e-05, -1.3958591e-04, -1.5690404e-03, -2.8236841e-03,\n",
       "         4.7256127e-03, -2.2296625e-04,  4.4872537e-03, -4.6285372e-03,\n",
       "        -4.4445205e-03, -3.7693796e-03, -7.0037749e-03, -5.0887056e-03,\n",
       "         5.4752780e-03,  7.8744459e-04,  2.3030012e-03, -3.8719436e-04,\n",
       "         1.1376769e-03,  5.5207033e-04, -6.2164413e-03, -1.1776550e-03],\n",
       "       dtype=float32)>]"
      ]
     },
     "execution_count": 31,
     "metadata": {},
     "output_type": "execute_result"
    }
   ],
   "source": [
    "model.layers[0].weights"
   ]
  },
  {
   "cell_type": "markdown",
   "metadata": {},
   "source": [
    "#### Questions:\n",
    "\n",
    "- Try the following initialization schemes and see whether\n",
    "  the SGD algorithm can successfully train the network or\n",
    "  not:\n",
    "  \n",
    "  - a very small e.g. `stddev=1e-3`\n",
    "  - a larger scale e.g. `stddev=1` or `10`\n",
    "  - initialize all weights to 0 (constant initialization)\n",
    "  \n",
    "- What do you observe? Can you find an explanation for those\n",
    "  outcomes?\n",
    "\n",
    "- Are more advanced solvers such as SGD with momentum or Adam able\n",
    "  to deal better with such bad initializations?"
   ]
  },
  {
   "cell_type": "code",
   "execution_count": 32,
   "metadata": {},
   "outputs": [
    {
     "name": "stdout",
     "output_type": "stream",
     "text": [
      "Epoch 1/15\n",
      "45/45 [==============================] - 2s 22ms/step - loss: 2.3036 - accuracy: 0.0974\n",
      "Epoch 2/15\n",
      "45/45 [==============================] - 1s 20ms/step - loss: 2.3033 - accuracy: 0.1072\n",
      "Epoch 3/15\n",
      "45/45 [==============================] - 1s 12ms/step - loss: 2.3032 - accuracy: 0.1009\n",
      "Epoch 4/15\n",
      "45/45 [==============================] - 1s 14ms/step - loss: 2.3032 - accuracy: 0.1072\n",
      "Epoch 5/15\n",
      "45/45 [==============================] - 1s 23ms/step - loss: 2.3034 - accuracy: 0.0974\n",
      "Epoch 6/15\n",
      "45/45 [==============================] - 1s 11ms/step - loss: 2.3031 - accuracy: 0.1051\n",
      "Epoch 7/15\n",
      "45/45 [==============================] - 1s 17ms/step - loss: 2.3030 - accuracy: 0.1072\n",
      "Epoch 8/15\n",
      "45/45 [==============================] - 1s 15ms/step - loss: 2.3030 - accuracy: 0.1072\n",
      "Epoch 9/15\n",
      "45/45 [==============================] - 0s 10ms/step - loss: 2.3017 - accuracy: 0.1072\n",
      "Epoch 10/15\n",
      "45/45 [==============================] - 0s 6ms/step - loss: 2.1270 - accuracy: 0.1768\n",
      "Epoch 11/15\n",
      "45/45 [==============================] - 1s 10ms/step - loss: 1.7963 - accuracy: 0.2053\n",
      "Epoch 12/15\n",
      "45/45 [==============================] - 0s 9ms/step - loss: 1.6225 - accuracy: 0.2811\n",
      "Epoch 13/15\n",
      "45/45 [==============================] - 1s 11ms/step - loss: 1.4188 - accuracy: 0.3967\n",
      "Epoch 14/15\n",
      "45/45 [==============================] - 0s 10ms/step - loss: 1.2153 - accuracy: 0.5073\n",
      "Epoch 15/15\n",
      "45/45 [==============================] - 1s 22ms/step - loss: 0.8624 - accuracy: 0.6834\n"
     ]
    },
    {
     "data": {
      "image/png": "[encoded data removed]",
      "text/plain": [
       "<Figure size 1200x400 with 1 Axes>"
      ]
     },
     "metadata": {},
     "output_type": "display_data"
    }
   ],
   "source": [
    "# Your code here\n",
    "from tensorflow.keras import initializers\n",
    "from tensorflow.keras import optimizers\n",
    "\n",
    "input_dim = 64\n",
    "hidden_dim = 64\n",
    "output_dim = 10\n",
    "\n",
    "normal_init = initializers.TruncatedNormal(stddev=0.001, seed=42)\n",
    "\n",
    "model = Sequential()\n",
    "model.add(Dense(hidden_dim, input_dim=input_dim, activation=\"tanh\",\n",
    "                kernel_initializer=normal_init))\n",
    "model.add(Dense(hidden_dim, activation=\"tanh\",\n",
    "                kernel_initializer=normal_init))\n",
    "model.add(Dense(output_dim, activation=\"softmax\",\n",
    "                kernel_initializer=normal_init))\n",
    "\n",
    "model.compile(optimizer=optimizers.legacy.SGD(learning_rate=0.1),\n",
    "              loss='categorical_crossentropy', metrics=['accuracy'])\n",
    "\n",
    "history = model.fit(X_train, y_train, epochs=15, batch_size=32)\n",
    "\n",
    "plt.figure(figsize=(12, 4))\n",
    "plt.plot(history.history['loss'], label=\"Truncated Normal init\")\n",
    "plt.legend();"
   ]
  },
  {
   "cell_type": "code",
   "execution_count": 33,
   "metadata": {},
   "outputs": [
    {
     "name": "stdout",
     "output_type": "stream",
     "text": [
      "Epoch 1/15\n",
      "45/45 [==============================] - 1s 17ms/step - loss: 193.7236 - accuracy: 0.1106\n",
      "Epoch 2/15\n",
      "45/45 [==============================] - 1s 21ms/step - loss: 173.4413 - accuracy: 0.1058\n",
      "Epoch 3/15\n",
      "45/45 [==============================] - 0s 10ms/step - loss: 158.1966 - accuracy: 0.1260\n",
      "Epoch 4/15\n",
      "45/45 [==============================] - 1s 14ms/step - loss: 130.8990 - accuracy: 0.1225\n",
      "Epoch 5/15\n",
      "45/45 [==============================] - 1s 21ms/step - loss: 116.3098 - accuracy: 0.1608\n",
      "Epoch 6/15\n",
      "45/45 [==============================] - 1s 11ms/step - loss: 104.2690 - accuracy: 0.1608\n",
      "Epoch 7/15\n",
      "45/45 [==============================] - 0s 10ms/step - loss: 82.1859 - accuracy: 0.2039\n",
      "Epoch 8/15\n",
      "45/45 [==============================] - 0s 7ms/step - loss: 71.0890 - accuracy: 0.2150\n",
      "Epoch 9/15\n",
      "45/45 [==============================] - 0s 6ms/step - loss: 72.6594 - accuracy: 0.1726\n",
      "Epoch 10/15\n",
      "45/45 [==============================] - 0s 6ms/step - loss: 62.2363 - accuracy: 0.1573\n",
      "Epoch 11/15\n",
      "45/45 [==============================] - 0s 9ms/step - loss: 50.4919 - accuracy: 0.1921\n",
      "Epoch 12/15\n",
      "45/45 [==============================] - 2s 36ms/step - loss: 50.4196 - accuracy: 0.1907\n",
      "Epoch 13/15\n",
      "45/45 [==============================] - 1s 16ms/step - loss: 48.2247 - accuracy: 0.1670\n",
      "Epoch 14/15\n",
      "45/45 [==============================] - 0s 8ms/step - loss: 43.1102 - accuracy: 0.2053\n",
      "Epoch 15/15\n",
      "45/45 [==============================] - 1s 12ms/step - loss: 38.8665 - accuracy: 0.2129\n"
     ]
    },
    {
     "data": {
      "image/png": "[encoded data removed]",
      "text/plain": [
       "<Figure size 1200x400 with 1 Axes>"
      ]
     },
     "metadata": {},
     "output_type": "display_data"
    }
   ],
   "source": [
    "from tensorflow.keras import initializers\n",
    "from tensorflow.keras import optimizers\n",
    "\n",
    "input_dim = 64\n",
    "hidden_dim = 64\n",
    "output_dim = 10\n",
    "\n",
    "normal_init = initializers.TruncatedNormal(stddev=20, seed=42)\n",
    "\n",
    "model = Sequential()\n",
    "model.add(Dense(hidden_dim, input_dim=input_dim, activation=\"tanh\",\n",
    "                kernel_initializer=normal_init))\n",
    "model.add(Dense(hidden_dim, activation=\"tanh\",\n",
    "                kernel_initializer=normal_init))\n",
    "model.add(Dense(output_dim, activation=\"softmax\",\n",
    "                kernel_initializer=normal_init))\n",
    "\n",
    "model.compile(optimizer=optimizers.legacy.SGD(learning_rate=0.1),\n",
    "              loss='categorical_crossentropy', metrics=['accuracy'])\n",
    "\n",
    "history = model.fit(X_train, y_train, epochs=15, batch_size=32)\n",
    "\n",
    "plt.figure(figsize=(12, 4))\n",
    "plt.plot(history.history['loss'], label=\"Truncated Normal init\")\n",
    "plt.legend();"
   ]
  },
  {
   "cell_type": "code",
   "execution_count": 34,
   "metadata": {},
   "outputs": [
    {
     "name": "stdout",
     "output_type": "stream",
     "text": [
      "Model: \"sequential_7\"\n",
      "_________________________________________________________________\n",
      " Layer (type)                Output Shape              Param #   \n",
      "=================================================================\n",
      " dense_21 (Dense)            (None, 64)                4160      \n",
      "                                                                 \n",
      " dense_22 (Dense)            (None, 64)                4160      \n",
      "                                                                 \n",
      " dense_23 (Dense)            (None, 10)                650       \n",
      "                                                                 \n",
      "=================================================================\n",
      "Total params: 8,970\n",
      "Trainable params: 8,970\n",
      "Non-trainable params: 0\n",
      "_________________________________________________________________\n",
      "Epoch 1/15\n",
      "36/36 [==============================] - 1s 24ms/step - loss: 2.3027 - accuracy: 0.0766 - val_loss: 2.3028 - val_accuracy: 0.1076\n",
      "Epoch 2/15\n",
      "36/36 [==============================] - 0s 14ms/step - loss: 2.3025 - accuracy: 0.0870 - val_loss: 2.3030 - val_accuracy: 0.1076\n",
      "Epoch 3/15\n",
      "36/36 [==============================] - 1s 16ms/step - loss: 2.3024 - accuracy: 0.0870 - val_loss: 2.3031 - val_accuracy: 0.1076\n",
      "Epoch 4/15\n",
      "36/36 [==============================] - 1s 15ms/step - loss: 2.3023 - accuracy: 0.1018 - val_loss: 2.3033 - val_accuracy: 0.1076\n",
      "Epoch 5/15\n",
      "36/36 [==============================] - 0s 12ms/step - loss: 2.3022 - accuracy: 0.1070 - val_loss: 2.3035 - val_accuracy: 0.1076\n",
      "Epoch 6/15\n",
      "36/36 [==============================] - 1s 18ms/step - loss: 2.3021 - accuracy: 0.1070 - val_loss: 2.3036 - val_accuracy: 0.1076\n",
      "Epoch 7/15\n",
      "36/36 [==============================] - 1s 15ms/step - loss: 2.3020 - accuracy: 0.1070 - val_loss: 2.3038 - val_accuracy: 0.1076\n",
      "Epoch 8/15\n",
      "36/36 [==============================] - 0s 13ms/step - loss: 2.3019 - accuracy: 0.1070 - val_loss: 2.3040 - val_accuracy: 0.1076\n",
      "Epoch 9/15\n",
      "36/36 [==============================] - 0s 9ms/step - loss: 2.3019 - accuracy: 0.1070 - val_loss: 2.3042 - val_accuracy: 0.1076\n",
      "Epoch 10/15\n",
      "36/36 [==============================] - 1s 15ms/step - loss: 2.3018 - accuracy: 0.1070 - val_loss: 2.3043 - val_accuracy: 0.1076\n",
      "Epoch 11/15\n",
      "36/36 [==============================] - 1s 17ms/step - loss: 2.3017 - accuracy: 0.1070 - val_loss: 2.3045 - val_accuracy: 0.1076\n",
      "Epoch 12/15\n",
      "36/36 [==============================] - 1s 16ms/step - loss: 2.3017 - accuracy: 0.1070 - val_loss: 2.3046 - val_accuracy: 0.1076\n",
      "Epoch 13/15\n",
      "36/36 [==============================] - 1s 15ms/step - loss: 2.3016 - accuracy: 0.1044 - val_loss: 2.3048 - val_accuracy: 0.1076\n",
      "Epoch 14/15\n",
      "36/36 [==============================] - 1s 15ms/step - loss: 2.3015 - accuracy: 0.1070 - val_loss: 2.3049 - val_accuracy: 0.1076\n",
      "Epoch 15/15\n",
      "36/36 [==============================] - 0s 14ms/step - loss: 2.3015 - accuracy: 0.1036 - val_loss: 2.3051 - val_accuracy: 0.1076\n"
     ]
    },
    {
     "data": {
      "image/png": "[encoded data removed]",
      "text/plain": [
       "<Figure size 1200x400 with 1 Axes>"
      ]
     },
     "metadata": {},
     "output_type": "display_data"
    }
   ],
   "source": [
    "#Initialize all weights to 0\n",
    "zero_init = initializers.Zeros()\n",
    "\n",
    "#Defining the model\n",
    "model = Sequential()\n",
    "\n",
    "# Input layer\n",
    "model.add(Dense(hidden_dim, input_dim = input_dim, activation='tanh', kernel_initializer = zero_init))\n",
    "\n",
    "# Hidden layer\n",
    "model.add(Dense(hidden_dim, activation='tanh', kernel_initializer = zero_init)) \n",
    "\n",
    "# Output layer\n",
    "model.add(Dense(output_dim, activation='softmax', kernel_initializer = zero_init)) \n",
    "\n",
    "model.summary()\n",
    "\n",
    "model.compile(optimizer = optimizers.SGD(learning_rate=0.01), # Optimizer\n",
    "    loss='categorical_crossentropy', # Loss function\n",
    "    metrics=['accuracy'] # Metrics to evaluate the model\n",
    ")\n",
    "\n",
    "hystory = model.fit(\n",
    "    X_train, # Training data\n",
    "    y_train, # Training labels\n",
    "    epochs=15, # Number of epochs\n",
    "    batch_size=32, # Number of samples per batch\n",
    "    validation_split=0.2 # Use 20% of the data for validation\n",
    ")\n",
    "\n",
    "plt.figure(figsize=(12, 4))\n",
    "plt.plot(history.history['loss'], label=\"Truncated Normal init\")\n",
    "plt.legend();"
   ]
  }
 ],
 "metadata": {
  "file_extension": ".py",
  "kernelspec": {
   "display_name": "Python 3 (ipykernel)",
   "language": "python",
   "name": "python3"
  },
  "language_info": {
   "codemirror_mode": {
    "name": "ipython",
    "version": 3
   },
   "file_extension": ".py",
   "mimetype": "text/x-python",
   "name": "python",
   "nbconvert_exporter": "python",
   "pygments_lexer": "ipython3",
   "version": "3.9.18"
  },
  "mimetype": "text/x-python",
  "name": "python",
  "npconvert_exporter": "python",
  "pygments_lexer": "ipython3",
  "toc": {
   "base_numbering": 1,
   "nav_menu": {},
   "number_sections": true,
   "sideBar": true,
   "skip_h1_title": false,
   "title_cell": "Table of Contents",
   "title_sidebar": "Contents",
   "toc_cell": false,
   "toc_position": {},
   "toc_section_display": true,
   "toc_window_display": false
  },
  "version": 3
 },
 "nbformat": 4,
 "nbformat_minor": 4
}
